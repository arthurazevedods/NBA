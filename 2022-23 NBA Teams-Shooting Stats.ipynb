{
 "cells": [
  {
   "cell_type": "code",
   "execution_count": 1,
   "id": "877e6d27",
   "metadata": {},
   "outputs": [],
   "source": [
    "import pandas as pd\n",
    "import numpy as np\n",
    "import requests\n",
    "from urllib.request import urlopen\n",
    "from bs4 import BeautifulSoup"
   ]
  },
  {
   "cell_type": "code",
   "execution_count": 2,
   "id": "21579628",
   "metadata": {},
   "outputs": [],
   "source": [
    "url = \"https://www.basketball-reference.com/leagues/NBA_2023.html#all_per_game_team-opponent\""
   ]
  },
  {
   "cell_type": "code",
   "execution_count": 3,
   "id": "578191b6",
   "metadata": {},
   "outputs": [],
   "source": [
    "html = urlopen(url)\n",
    "soup = BeautifulSoup(html)"
   ]
  },
  {
   "cell_type": "markdown",
   "id": "8f83b796",
   "metadata": {},
   "source": [
    "# DATAFRAME"
   ]
  },
  {
   "cell_type": "code",
   "execution_count": 4,
   "id": "096da613",
   "metadata": {},
   "outputs": [
    {
     "name": "stdout",
     "output_type": "stream",
     "text": [
      "confs_standings_E\n",
      "confs_standings_W\n",
      "divs_standings_E\n",
      "divs_standings_W\n",
      "per_game-team\n",
      "per_game-opponent\n",
      "totals-team\n",
      "totals-opponent\n",
      "per_poss-team\n",
      "per_poss-opponent\n",
      "advanced-team\n",
      "shooting-team\n",
      "shooting-opponent\n"
     ]
    }
   ],
   "source": [
    "for table in soup.find_all('table'):\n",
    "    print(table.get('id'))"
   ]
  },
  {
   "cell_type": "code",
   "execution_count": 5,
   "id": "6a1c4697",
   "metadata": {},
   "outputs": [],
   "source": [
    "table = soup.find(lambda tag: tag.name =='table' and tag.get('id')=='shooting-team')"
   ]
  },
  {
   "cell_type": "code",
   "execution_count": 6,
   "id": "c65bff6d",
   "metadata": {},
   "outputs": [
    {
     "data": {
      "text/plain": [
       "[<tr class=\"over_header\"> <th aria-label=\"\" class=\"over_header center\" colspan=\"7\" data-stat=\"\"></th> <th aria-label=\"\" class=\"over_header center\" colspan=\"6\" data-stat=\"header_pct_fga\">% of FGA by Distance</th><th></th> <th aria-label=\"\" class=\"over_header center\" colspan=\"6\" data-stat=\"header_fg_pct\">FG% by Distance</th><th></th> <th aria-label=\"\" class=\"over_header center\" colspan=\"2\" data-stat=\"astd\">% of FG Ast'd</th><th></th> <th aria-label=\"\" class=\"over_header center\" colspan=\"2\" data-stat=\"dunks\">Dunks</th><th></th> <th aria-label=\"\" class=\"over_header center\" colspan=\"2\" data-stat=\"layups\">Layups</th><th></th> <th aria-label=\"\" class=\"over_header center\" colspan=\"2\" data-stat=\"header_corner\">Corner</th><th></th> <th aria-label=\"\" class=\"over_header center\" colspan=\"2\" data-stat=\"header_heaves\">Heaves</th> </tr>,\n",
       " <tr> <th aria-label=\"Rk\" class=\"ranker poptip sort_default_asc show_partial_when_sorting center\" data-stat=\"ranker\" data-tip=\"Rank\" scope=\"col\">Rk</th> <th aria-label=\"team\" class=\"poptip center\" data-stat=\"team\" scope=\"col\">Team</th> <th aria-label=\"Games\" class=\"poptip center\" data-stat=\"g\" data-tip=\"Games\" scope=\"col\">G</th> <th aria-label=\"Minutes Played\" class=\"poptip center\" data-stat=\"mp\" data-tip=\"Minutes Played\" scope=\"col\">MP</th> <th aria-label=\"Field Goal Percentage\" class=\"poptip center\" data-stat=\"fg_pct\" data-tip=\"Field Goal Percentage\" scope=\"col\">FG%</th> <th aria-label=\"Average distance (ft.) of FGA\" class=\"poptip center\" data-stat=\"avg_dist\" data-tip=\"Average distance (ft.) of FGA\" scope=\"col\">Dist.</th> <th aria-label=\" \" class=\"poptip center\" data-stat=\"DUMMY\" scope=\"col\"> </th> <th aria-label=\"% of FGAs that are 2-Pt FGAs.\" class=\"poptip center\" data-over-header=\"% of FGA by Distance\" data-stat=\"pct_fga_fg2a\" data-tip=\"% of FGAs that are 2-Pt FGAs.\" scope=\"col\">2P</th> <th aria-label=\"% of FGAs that are 0-3 feet from the basket.\" class=\"poptip center\" data-over-header=\"% of FGA by Distance\" data-stat=\"pct_fga_00_03\" data-tip=\"% of FGAs that are 0-3 feet from the basket.\" scope=\"col\">0-3</th> <th aria-label=\"% of FGAs that are 3-10 feet from the basket.\" class=\"poptip center\" data-over-header=\"% of FGA by Distance\" data-stat=\"pct_fga_03_10\" data-tip=\"% of FGAs that are 3-10 feet from the basket.\" scope=\"col\">3-10</th> <th aria-label=\"% of FGAs that are 10-16 feet from the basket.\" class=\"poptip center\" data-over-header=\"% of FGA by Distance\" data-stat=\"pct_fga_10_16\" data-tip=\"% of FGAs that are 10-16 feet from the basket.\" scope=\"col\">10-16</th> <th aria-label=\"% of FGAs that are 2-Pt shotsand 16+ feet from the basket.\" class=\"poptip center\" data-over-header=\"% of FGA by Distance\" data-stat=\"pct_fga_16_xx\" data-tip=\"% of FGAs that are 2-Pt shots&lt;br&gt;and 16+ feet from the basket.\" scope=\"col\">16-3P</th> <th aria-label=\"% of FGAs that are 3-Pt FGAs.\" class=\"poptip center\" data-over-header=\"% of FGA by Distance\" data-stat=\"pct_fga_fg3a\" data-tip=\"% of FGAs that are 3-Pt FGAs.\" scope=\"col\">3P</th> <th aria-label=\" \" class=\"poptip center\" data-stat=\"DUMMY\" scope=\"col\"> </th> <th aria-label=\"2P\" class=\"poptip center\" data-over-header=\"FG% by Distance\" data-stat=\"fg_pct_fg2a\" scope=\"col\">2P</th> <th aria-label=\"FG% on FGAs that are 0-3 feet from the basket.\" class=\"poptip center\" data-over-header=\"FG% by Distance\" data-stat=\"fg_pct_00_03\" data-tip=\"FG% on FGAs that are 0-3 feet from the basket.\" scope=\"col\">0-3</th> <th aria-label=\"FG% on FGAs that are 3-10 feet from the basket.\" class=\"poptip center\" data-over-header=\"FG% by Distance\" data-stat=\"fg_pct_03_10\" data-tip=\"FG% on FGAs that are 3-10 feet from the basket.\" scope=\"col\">3-10</th> <th aria-label=\"FG% on FGAs that are 10-16 feet from the basket.\" class=\"poptip center\" data-over-header=\"FG% by Distance\" data-stat=\"fg_pct_10_16\" data-tip=\"FG% on FGAs that are 10-16 feet from the basket.\" scope=\"col\">10-16</th> <th aria-label=\"FG% on 2-Pt FGAs that are 16+ feet from the basket.\" class=\"poptip center\" data-over-header=\"FG% by Distance\" data-stat=\"fg_pct_16_xx\" data-tip=\"FG% on 2-Pt FGAs that are 16+ feet from the basket.\" scope=\"col\">16-3P</th> <th aria-label=\"3P\" class=\"poptip center\" data-over-header=\"FG% by Distance\" data-stat=\"fg_pct_fg3a\" scope=\"col\">3P</th> <th aria-label=\" \" class=\"poptip center\" data-stat=\"DUMMY\" scope=\"col\"> </th> <th aria-label=\"% of 2-Pt FGs that were assisted.\" class=\"poptip center\" data-over-header=\"% of FG Ast'd\" data-stat=\"pct_ast_fg2\" data-tip=\"% of 2-Pt FGs that were assisted.\" scope=\"col\">2P</th> <th aria-label=\"% of 3-Pt FGs that were assisted.\" class=\"poptip center\" data-over-header=\"% of FG Ast'd\" data-stat=\"pct_ast_fg3\" data-tip=\"% of 3-Pt FGs that were assisted.\" scope=\"col\">3P</th> <th aria-label=\" \" class=\"poptip center\" data-stat=\"DUMMY\" scope=\"col\"> </th> <th aria-label=\"% of FGAs that are dunk attempts.\" class=\"poptip center\" data-over-header=\"Dunks\" data-stat=\"pct_fga_dunk\" data-tip=\"% of FGAs that are dunk attempts.\" scope=\"col\">%FGA</th> <th aria-label=\"# of made dunk attempts.\" class=\"poptip center\" data-over-header=\"Dunks\" data-stat=\"fg_dunk\" data-tip=\"# of made dunk attempts.\" scope=\"col\">Md.</th> <th aria-label=\" \" class=\"poptip center\" data-stat=\"DUMMY\" scope=\"col\"> </th> <th aria-label=\"%FGA\" class=\"poptip center\" data-over-header=\"Layups\" data-stat=\"pct_fga_layup\" scope=\"col\">%FGA</th> <th aria-label=\"Md.\" class=\"poptip center\" data-over-header=\"Layups\" data-stat=\"fg_layup\" scope=\"col\">Md.</th> <th aria-label=\" \" class=\"poptip center\" data-stat=\"DUMMY\" scope=\"col\"> </th> <th aria-label=\"% of 3PAs from the corner.\" class=\"poptip center\" data-over-header=\"Corner\" data-stat=\"pct_fg3a_corner\" data-tip=\"% of 3PAs from the corner.\" scope=\"col\">%3PA</th> <th aria-label=\"3P% on 3PAs from the corner.\" class=\"poptip center\" data-over-header=\"Corner\" data-stat=\"fg3_pct_corner\" data-tip=\"3P% on 3PAs from the corner.\" scope=\"col\">3P%</th> <th aria-label=\" \" class=\"poptip center\" data-stat=\"DUMMY\" scope=\"col\"> </th> <th aria-label=\"Heave attempts (beyond half-court)\" class=\"poptip center\" data-over-header=\"Heaves\" data-stat=\"fg3a_heave\" data-tip=\"Heave attempts (beyond half-court)\" scope=\"col\">Att.</th> <th aria-label=\"Heaves made (beyond half-court)\" class=\"poptip center\" data-over-header=\"Heaves\" data-stat=\"fg3_heave\" data-tip=\"Heaves made (beyond half-court)\" scope=\"col\">Md.</th> </tr>]"
      ]
     },
     "execution_count": 6,
     "metadata": {},
     "output_type": "execute_result"
    }
   ],
   "source": [
    "columns = table.findAll(lambda tag: tag.name=='tr',limit=2)\n",
    "columns"
   ]
  },
  {
   "cell_type": "code",
   "execution_count": 7,
   "id": "4e007cf6",
   "metadata": {},
   "outputs": [
    {
     "data": {
      "text/plain": [
       "['Team',\n",
       " 'G',\n",
       " 'MP',\n",
       " 'FG%',\n",
       " 'Dist.',\n",
       " '\\xa0',\n",
       " '2P',\n",
       " '0-3',\n",
       " '3-10',\n",
       " '10-16',\n",
       " '16-3P',\n",
       " '3P',\n",
       " '\\xa0',\n",
       " '2P',\n",
       " '0-3',\n",
       " '3-10',\n",
       " '10-16',\n",
       " '16-3P',\n",
       " '3P',\n",
       " '\\xa0',\n",
       " '2P',\n",
       " '3P',\n",
       " '\\xa0',\n",
       " '%FGA',\n",
       " 'Md.',\n",
       " '\\xa0',\n",
       " '%FGA',\n",
       " 'Md.',\n",
       " '\\xa0',\n",
       " '%3PA',\n",
       " '3P%',\n",
       " '\\xa0',\n",
       " 'Att.',\n",
       " 'Md.']"
      ]
     },
     "execution_count": 7,
     "metadata": {},
     "output_type": "execute_result"
    }
   ],
   "source": [
    "headers = [th.getText() for th in columns[1].findAll('th')]\n",
    "headers = headers[1:]\n",
    "headers"
   ]
  },
  {
   "cell_type": "code",
   "execution_count": 8,
   "id": "a48a9a2a",
   "metadata": {},
   "outputs": [],
   "source": [
    "rows = table.tbody.findAll('tr')[0:]"
   ]
  },
  {
   "cell_type": "code",
   "execution_count": 9,
   "id": "15b2e45e",
   "metadata": {},
   "outputs": [],
   "source": [
    "team_stats = [[td.getText() for td in rows[i].findAll('td')] for i in range(len(rows))]"
   ]
  },
  {
   "cell_type": "code",
   "execution_count": 10,
   "id": "215e25e2",
   "metadata": {},
   "outputs": [
    {
     "data": {
      "text/html": [
       "<div>\n",
       "<style scoped>\n",
       "    .dataframe tbody tr th:only-of-type {\n",
       "        vertical-align: middle;\n",
       "    }\n",
       "\n",
       "    .dataframe tbody tr th {\n",
       "        vertical-align: top;\n",
       "    }\n",
       "\n",
       "    .dataframe thead th {\n",
       "        text-align: right;\n",
       "    }\n",
       "</style>\n",
       "<table border=\"1\" class=\"dataframe\">\n",
       "  <thead>\n",
       "    <tr style=\"text-align: right;\">\n",
       "      <th></th>\n",
       "      <th>Team</th>\n",
       "      <th>G</th>\n",
       "      <th>MP</th>\n",
       "      <th>FG%</th>\n",
       "      <th>Dist.</th>\n",
       "      <th></th>\n",
       "      <th>2P</th>\n",
       "      <th>0-3</th>\n",
       "      <th>3-10</th>\n",
       "      <th>10-16</th>\n",
       "      <th>...</th>\n",
       "      <th>Md.</th>\n",
       "      <th></th>\n",
       "      <th>%FGA</th>\n",
       "      <th>Md.</th>\n",
       "      <th></th>\n",
       "      <th>%3PA</th>\n",
       "      <th>3P%</th>\n",
       "      <th></th>\n",
       "      <th>Att.</th>\n",
       "      <th>Md.</th>\n",
       "    </tr>\n",
       "  </thead>\n",
       "  <tbody>\n",
       "    <tr>\n",
       "      <th>0</th>\n",
       "      <td>Atlanta Hawks</td>\n",
       "      <td>36</td>\n",
       "      <td>8715</td>\n",
       "      <td>.466</td>\n",
       "      <td>13.6</td>\n",
       "      <td></td>\n",
       "      <td>.665</td>\n",
       "      <td>.252</td>\n",
       "      <td>.180</td>\n",
       "      <td>.128</td>\n",
       "      <td>...</td>\n",
       "      <td>186</td>\n",
       "      <td></td>\n",
       "      <td>.249</td>\n",
       "      <td>456</td>\n",
       "      <td></td>\n",
       "      <td>.237</td>\n",
       "      <td>.343</td>\n",
       "      <td></td>\n",
       "      <td>3</td>\n",
       "      <td>0</td>\n",
       "    </tr>\n",
       "    <tr>\n",
       "      <th>1</th>\n",
       "      <td>Boston Celtics</td>\n",
       "      <td>36</td>\n",
       "      <td>8740</td>\n",
       "      <td>.479</td>\n",
       "      <td>15.6</td>\n",
       "      <td></td>\n",
       "      <td>.521</td>\n",
       "      <td>.211</td>\n",
       "      <td>.195</td>\n",
       "      <td>.064</td>\n",
       "      <td>...</td>\n",
       "      <td>139</td>\n",
       "      <td></td>\n",
       "      <td>.281</td>\n",
       "      <td>515</td>\n",
       "      <td></td>\n",
       "      <td>.230</td>\n",
       "      <td>.381</td>\n",
       "      <td></td>\n",
       "      <td>6</td>\n",
       "      <td>0</td>\n",
       "    </tr>\n",
       "    <tr>\n",
       "      <th>2</th>\n",
       "      <td>Brooklyn Nets</td>\n",
       "      <td>35</td>\n",
       "      <td>8425</td>\n",
       "      <td>.510</td>\n",
       "      <td>14.3</td>\n",
       "      <td></td>\n",
       "      <td>.630</td>\n",
       "      <td>.232</td>\n",
       "      <td>.170</td>\n",
       "      <td>.135</td>\n",
       "      <td>...</td>\n",
       "      <td>174</td>\n",
       "      <td></td>\n",
       "      <td>.223</td>\n",
       "      <td>386</td>\n",
       "      <td></td>\n",
       "      <td>.231</td>\n",
       "      <td>.414</td>\n",
       "      <td></td>\n",
       "      <td>2</td>\n",
       "      <td>0</td>\n",
       "    </tr>\n",
       "    <tr>\n",
       "      <th>3</th>\n",
       "      <td>Chicago Bulls</td>\n",
       "      <td>35</td>\n",
       "      <td>8500</td>\n",
       "      <td>.485</td>\n",
       "      <td>13.5</td>\n",
       "      <td></td>\n",
       "      <td>.671</td>\n",
       "      <td>.282</td>\n",
       "      <td>.145</td>\n",
       "      <td>.113</td>\n",
       "      <td>...</td>\n",
       "      <td>149</td>\n",
       "      <td></td>\n",
       "      <td>.283</td>\n",
       "      <td>495</td>\n",
       "      <td></td>\n",
       "      <td>.267</td>\n",
       "      <td>.419</td>\n",
       "      <td></td>\n",
       "      <td>2</td>\n",
       "      <td>0</td>\n",
       "    </tr>\n",
       "    <tr>\n",
       "      <th>4</th>\n",
       "      <td>Charlotte Hornets</td>\n",
       "      <td>36</td>\n",
       "      <td>8790</td>\n",
       "      <td>.447</td>\n",
       "      <td>12.9</td>\n",
       "      <td></td>\n",
       "      <td>.646</td>\n",
       "      <td>.294</td>\n",
       "      <td>.211</td>\n",
       "      <td>.082</td>\n",
       "      <td>...</td>\n",
       "      <td>202</td>\n",
       "      <td></td>\n",
       "      <td>.306</td>\n",
       "      <td>545</td>\n",
       "      <td></td>\n",
       "      <td>.247</td>\n",
       "      <td>.364</td>\n",
       "      <td></td>\n",
       "      <td>4</td>\n",
       "      <td>0</td>\n",
       "    </tr>\n",
       "  </tbody>\n",
       "</table>\n",
       "<p>5 rows × 34 columns</p>\n",
       "</div>"
      ],
      "text/plain": [
       "                Team   G    MP   FG% Dist.      2P   0-3  3-10 10-16  ...  \\\n",
       "0      Atlanta Hawks  36  8715  .466  13.6    .665  .252  .180  .128  ...   \n",
       "1     Boston Celtics  36  8740  .479  15.6    .521  .211  .195  .064  ...   \n",
       "2      Brooklyn Nets  35  8425  .510  14.3    .630  .232  .170  .135  ...   \n",
       "3      Chicago Bulls  35  8500  .485  13.5    .671  .282  .145  .113  ...   \n",
       "4  Charlotte Hornets  36  8790  .447  12.9    .646  .294  .211  .082  ...   \n",
       "\n",
       "   Md.    %FGA  Md.    %3PA   3P%   Att. Md.  \n",
       "0  186    .249  456    .237  .343      3   0  \n",
       "1  139    .281  515    .230  .381      6   0  \n",
       "2  174    .223  386    .231  .414      2   0  \n",
       "3  149    .283  495    .267  .419      2   0  \n",
       "4  202    .306  545    .247  .364      4   0  \n",
       "\n",
       "[5 rows x 34 columns]"
      ]
     },
     "execution_count": 10,
     "metadata": {},
     "output_type": "execute_result"
    }
   ],
   "source": [
    "df = pd.DataFrame(team_stats, columns = headers)\n",
    "df.head()"
   ]
  },
  {
   "cell_type": "code",
   "execution_count": 11,
   "id": "d9491cca",
   "metadata": {},
   "outputs": [
    {
     "data": {
      "text/plain": [
       "(30, 34)"
      ]
     },
     "execution_count": 11,
     "metadata": {},
     "output_type": "execute_result"
    }
   ],
   "source": [
    "df.shape"
   ]
  },
  {
   "cell_type": "markdown",
   "id": "71c1918c",
   "metadata": {},
   "source": [
    "## Cleaning"
   ]
  },
  {
   "cell_type": "code",
   "execution_count": 12,
   "id": "79f9d5ce",
   "metadata": {},
   "outputs": [
    {
     "data": {
      "text/plain": [
       "Team     0\n",
       "G        0\n",
       "MP       0\n",
       "FG%      0\n",
       "Dist.    0\n",
       "         0\n",
       "2P       0\n",
       "0-3      0\n",
       "3-10     0\n",
       "10-16    0\n",
       "16-3P    0\n",
       "3P       0\n",
       "         0\n",
       "2P       0\n",
       "0-3      0\n",
       "3-10     0\n",
       "10-16    0\n",
       "16-3P    0\n",
       "3P       0\n",
       "         0\n",
       "2P       0\n",
       "3P       0\n",
       "         0\n",
       "%FGA     0\n",
       "Md.      0\n",
       "         0\n",
       "%FGA     0\n",
       "Md.      0\n",
       "         0\n",
       "%3PA     0\n",
       "3P%      0\n",
       "         0\n",
       "Att.     0\n",
       "Md.      0\n",
       "dtype: int64"
      ]
     },
     "execution_count": 12,
     "metadata": {},
     "output_type": "execute_result"
    }
   ],
   "source": [
    "df.isnull().sum()"
   ]
  },
  {
   "cell_type": "code",
   "execution_count": 13,
   "id": "104e8c8d",
   "metadata": {
    "scrolled": true
   },
   "outputs": [
    {
     "data": {
      "text/plain": [
       "Team     object\n",
       "G        object\n",
       "MP       object\n",
       "FG%      object\n",
       "Dist.    object\n",
       "         object\n",
       "2P       object\n",
       "0-3      object\n",
       "3-10     object\n",
       "10-16    object\n",
       "16-3P    object\n",
       "3P       object\n",
       "         object\n",
       "2P       object\n",
       "0-3      object\n",
       "3-10     object\n",
       "10-16    object\n",
       "16-3P    object\n",
       "3P       object\n",
       "         object\n",
       "2P       object\n",
       "3P       object\n",
       "         object\n",
       "%FGA     object\n",
       "Md.      object\n",
       "         object\n",
       "%FGA     object\n",
       "Md.      object\n",
       "         object\n",
       "%3PA     object\n",
       "3P%      object\n",
       "         object\n",
       "Att.     object\n",
       "Md.      object\n",
       "dtype: object"
      ]
     },
     "execution_count": 13,
     "metadata": {},
     "output_type": "execute_result"
    }
   ],
   "source": [
    "df.dtypes"
   ]
  },
  {
   "cell_type": "code",
   "execution_count": 14,
   "id": "09e0ba7a",
   "metadata": {},
   "outputs": [
    {
     "data": {
      "text/plain": [
       "Index(['Team', 'G', 'MP', 'FG%', 'Dist.', '2P', '0-3', '3-10', '10-16',\n",
       "       '16-3P', '3P', '2P', '0-3', '3-10', '10-16', '16-3P', '3P', '2P', '3P',\n",
       "       '%FGA', 'Md.', '%FGA', 'Md.', '%3PA', '3P%', 'Att.', 'Md.'],\n",
       "      dtype='object')"
      ]
     },
     "execution_count": 14,
     "metadata": {},
     "output_type": "execute_result"
    }
   ],
   "source": [
    "df = df.drop('\\xa0',axis=1)\n",
    "df.columns"
   ]
  },
  {
   "cell_type": "code",
   "execution_count": 15,
   "id": "ab2b947d",
   "metadata": {},
   "outputs": [],
   "source": [
    "df.columns = ['Team', 'G', 'MP', 'FG%', 'Dist.', '% FGA 2P', '% FGA 0-3', '% FGA 3-10', '% FGA 10-16',\n",
    "       '% FGA 16-3P', '% FGA 3P', 'FG% 2P', 'FG% 0-3', 'FG% 3-10', 'FG% 10-16', 'FG% 16-3P', 'FG% 3P', '% of FG Ast 2P', '% of FG Ast 3P',\n",
    "       'Dunks %FGA', 'Dunks Md.', 'Layups %FGA', 'Layups Md.', 'Corner %3PA', 'Corner 3P%', 'Heaves Att.', 'Heaves Md.']"
   ]
  },
  {
   "cell_type": "markdown",
   "id": "74536dcb",
   "metadata": {},
   "source": [
    "# FG% by Distance"
   ]
  },
  {
   "cell_type": "code",
   "execution_count": 46,
   "id": "54ffea14",
   "metadata": {},
   "outputs": [
    {
     "data": {
      "text/html": [
       "<div>\n",
       "<style scoped>\n",
       "    .dataframe tbody tr th:only-of-type {\n",
       "        vertical-align: middle;\n",
       "    }\n",
       "\n",
       "    .dataframe tbody tr th {\n",
       "        vertical-align: top;\n",
       "    }\n",
       "\n",
       "    .dataframe thead th {\n",
       "        text-align: right;\n",
       "    }\n",
       "</style>\n",
       "<table border=\"1\" class=\"dataframe\">\n",
       "  <thead>\n",
       "    <tr style=\"text-align: right;\">\n",
       "      <th></th>\n",
       "      <th>Team</th>\n",
       "      <th>FG% 2P</th>\n",
       "      <th>FG% 0-3</th>\n",
       "      <th>FG% 3-10</th>\n",
       "      <th>FG% 10-16</th>\n",
       "      <th>FG% 16-3P</th>\n",
       "      <th>FG% 3P</th>\n",
       "    </tr>\n",
       "  </thead>\n",
       "  <tbody>\n",
       "    <tr>\n",
       "      <th>1</th>\n",
       "      <td>Sacramento Kings</td>\n",
       "      <td>.588</td>\n",
       "      <td>.762</td>\n",
       "      <td>.500</td>\n",
       "      <td>.398</td>\n",
       "      <td>.425</td>\n",
       "      <td>.357</td>\n",
       "    </tr>\n",
       "    <tr>\n",
       "      <th>2</th>\n",
       "      <td>Brooklyn Nets</td>\n",
       "      <td>.580</td>\n",
       "      <td>.723</td>\n",
       "      <td>.464</td>\n",
       "      <td>.518</td>\n",
       "      <td>.526</td>\n",
       "      <td>.390</td>\n",
       "    </tr>\n",
       "    <tr>\n",
       "      <th>3</th>\n",
       "      <td>Minnesota Timberwolves</td>\n",
       "      <td>.578</td>\n",
       "      <td>.711</td>\n",
       "      <td>.459</td>\n",
       "      <td>.466</td>\n",
       "      <td>.427</td>\n",
       "      <td>.342</td>\n",
       "    </tr>\n",
       "  </tbody>\n",
       "</table>\n",
       "</div>"
      ],
      "text/plain": [
       "                     Team FG% 2P FG% 0-3 FG% 3-10 FG% 10-16 FG% 16-3P FG% 3P\n",
       "1        Sacramento Kings   .588    .762     .500      .398      .425   .357\n",
       "2           Brooklyn Nets   .580    .723     .464      .518      .526   .390\n",
       "3  Minnesota Timberwolves   .578    .711     .459      .466      .427   .342"
      ]
     },
     "execution_count": 46,
     "metadata": {},
     "output_type": "execute_result"
    }
   ],
   "source": [
    "df.sort_values(by=['FG% 2P'],ascending=False,inplace=True)\n",
    "df.index = np.arange(1,len(df)+1)\n",
    "df[['Team', 'FG% 2P', 'FG% 0-3', 'FG% 3-10', 'FG% 10-16', 'FG% 16-3P', 'FG% 3P']].head(3)"
   ]
  },
  {
   "cell_type": "code",
   "execution_count": 41,
   "id": "ab85e6be",
   "metadata": {},
   "outputs": [
    {
     "data": {
      "text/html": [
       "<div>\n",
       "<style scoped>\n",
       "    .dataframe tbody tr th:only-of-type {\n",
       "        vertical-align: middle;\n",
       "    }\n",
       "\n",
       "    .dataframe tbody tr th {\n",
       "        vertical-align: top;\n",
       "    }\n",
       "\n",
       "    .dataframe thead th {\n",
       "        text-align: right;\n",
       "    }\n",
       "</style>\n",
       "<table border=\"1\" class=\"dataframe\">\n",
       "  <thead>\n",
       "    <tr style=\"text-align: right;\">\n",
       "      <th></th>\n",
       "      <th>Team</th>\n",
       "      <th>FG% 3P</th>\n",
       "      <th>FG% 0-3</th>\n",
       "      <th>FG% 3-10</th>\n",
       "      <th>FG% 10-16</th>\n",
       "      <th>FG% 16-3P</th>\n",
       "      <th>FG% 2P</th>\n",
       "    </tr>\n",
       "  </thead>\n",
       "  <tbody>\n",
       "    <tr>\n",
       "      <th>1</th>\n",
       "      <td>Denver Nuggets</td>\n",
       "      <td>.394</td>\n",
       "      <td>.745</td>\n",
       "      <td>.462</td>\n",
       "      <td>.395</td>\n",
       "      <td>.438</td>\n",
       "      <td>.569</td>\n",
       "    </tr>\n",
       "    <tr>\n",
       "      <th>2</th>\n",
       "      <td>Brooklyn Nets</td>\n",
       "      <td>.390</td>\n",
       "      <td>.723</td>\n",
       "      <td>.464</td>\n",
       "      <td>.518</td>\n",
       "      <td>.526</td>\n",
       "      <td>.580</td>\n",
       "    </tr>\n",
       "    <tr>\n",
       "      <th>3</th>\n",
       "      <td>Phoenix Suns</td>\n",
       "      <td>.386</td>\n",
       "      <td>.721</td>\n",
       "      <td>.413</td>\n",
       "      <td>.439</td>\n",
       "      <td>.408</td>\n",
       "      <td>.522</td>\n",
       "    </tr>\n",
       "  </tbody>\n",
       "</table>\n",
       "</div>"
      ],
      "text/plain": [
       "             Team FG% 3P FG% 0-3 FG% 3-10 FG% 10-16 FG% 16-3P FG% 2P\n",
       "1  Denver Nuggets   .394    .745     .462      .395      .438   .569\n",
       "2   Brooklyn Nets   .390    .723     .464      .518      .526   .580\n",
       "3    Phoenix Suns   .386    .721     .413      .439      .408   .522"
      ]
     },
     "execution_count": 41,
     "metadata": {},
     "output_type": "execute_result"
    }
   ],
   "source": [
    "df.sort_values(by=['FG% 3P'],ascending=False,inplace=True)\n",
    "df.index = np.arange(1,len(df)+1)\n",
    "df[['Team', 'FG% 3P', 'FG% 0-3', 'FG% 3-10', 'FG% 10-16', 'FG% 16-3P', 'FG% 2P']].head(3)"
   ]
  },
  {
   "cell_type": "code",
   "execution_count": 49,
   "id": "8026723a",
   "metadata": {},
   "outputs": [
    {
     "data": {
      "text/html": [
       "<div>\n",
       "<style scoped>\n",
       "    .dataframe tbody tr th:only-of-type {\n",
       "        vertical-align: middle;\n",
       "    }\n",
       "\n",
       "    .dataframe tbody tr th {\n",
       "        vertical-align: top;\n",
       "    }\n",
       "\n",
       "    .dataframe thead th {\n",
       "        text-align: right;\n",
       "    }\n",
       "</style>\n",
       "<table border=\"1\" class=\"dataframe\">\n",
       "  <thead>\n",
       "    <tr style=\"text-align: right;\">\n",
       "      <th></th>\n",
       "      <th>Team</th>\n",
       "      <th>FG% 0-3</th>\n",
       "      <th>FG% 2P</th>\n",
       "      <th>FG% 3-10</th>\n",
       "      <th>FG% 10-16</th>\n",
       "      <th>FG% 16-3P</th>\n",
       "      <th>FG% 3P</th>\n",
       "    </tr>\n",
       "  </thead>\n",
       "  <tbody>\n",
       "    <tr>\n",
       "      <th>1</th>\n",
       "      <td>Washington Wizards</td>\n",
       "      <td>.775</td>\n",
       "      <td>.559</td>\n",
       "      <td>.484</td>\n",
       "      <td>.425</td>\n",
       "      <td>.422</td>\n",
       "      <td>.347</td>\n",
       "    </tr>\n",
       "    <tr>\n",
       "      <th>2</th>\n",
       "      <td>Sacramento Kings</td>\n",
       "      <td>.762</td>\n",
       "      <td>.588</td>\n",
       "      <td>.500</td>\n",
       "      <td>.398</td>\n",
       "      <td>.425</td>\n",
       "      <td>.357</td>\n",
       "    </tr>\n",
       "    <tr>\n",
       "      <th>3</th>\n",
       "      <td>Denver Nuggets</td>\n",
       "      <td>.745</td>\n",
       "      <td>.569</td>\n",
       "      <td>.462</td>\n",
       "      <td>.395</td>\n",
       "      <td>.438</td>\n",
       "      <td>.394</td>\n",
       "    </tr>\n",
       "  </tbody>\n",
       "</table>\n",
       "</div>"
      ],
      "text/plain": [
       "                 Team FG% 0-3 FG% 2P FG% 3-10 FG% 10-16 FG% 16-3P FG% 3P\n",
       "1  Washington Wizards    .775   .559     .484      .425      .422   .347\n",
       "2    Sacramento Kings    .762   .588     .500      .398      .425   .357\n",
       "3      Denver Nuggets    .745   .569     .462      .395      .438   .394"
      ]
     },
     "execution_count": 49,
     "metadata": {},
     "output_type": "execute_result"
    }
   ],
   "source": [
    "df.sort_values(by=['FG% 0-3'],ascending=False,inplace=True)\n",
    "df.index = np.arange(1,len(df)+1)\n",
    "df[['Team', 'FG% 0-3','FG% 2P', 'FG% 3-10', 'FG% 10-16', 'FG% 16-3P', 'FG% 3P']].head(3)"
   ]
  },
  {
   "cell_type": "code",
   "execution_count": 53,
   "id": "322519b7",
   "metadata": {},
   "outputs": [
    {
     "data": {
      "text/html": [
       "<div>\n",
       "<style scoped>\n",
       "    .dataframe tbody tr th:only-of-type {\n",
       "        vertical-align: middle;\n",
       "    }\n",
       "\n",
       "    .dataframe tbody tr th {\n",
       "        vertical-align: top;\n",
       "    }\n",
       "\n",
       "    .dataframe thead th {\n",
       "        text-align: right;\n",
       "    }\n",
       "</style>\n",
       "<table border=\"1\" class=\"dataframe\">\n",
       "  <thead>\n",
       "    <tr style=\"text-align: right;\">\n",
       "      <th></th>\n",
       "      <th>Team</th>\n",
       "      <th>FG% 3-10</th>\n",
       "      <th>FG% 2P</th>\n",
       "      <th>FG% 0-3</th>\n",
       "      <th>FG% 10-16</th>\n",
       "      <th>FG% 16-3P</th>\n",
       "      <th>FG% 3P</th>\n",
       "    </tr>\n",
       "  </thead>\n",
       "  <tbody>\n",
       "    <tr>\n",
       "      <th>1</th>\n",
       "      <td>Golden State Warriors</td>\n",
       "      <td>.522</td>\n",
       "      <td>.563</td>\n",
       "      <td>.695</td>\n",
       "      <td>.458</td>\n",
       "      <td>.439</td>\n",
       "      <td>.376</td>\n",
       "    </tr>\n",
       "    <tr>\n",
       "      <th>2</th>\n",
       "      <td>Sacramento Kings</td>\n",
       "      <td>.500</td>\n",
       "      <td>.588</td>\n",
       "      <td>.762</td>\n",
       "      <td>.398</td>\n",
       "      <td>.425</td>\n",
       "      <td>.357</td>\n",
       "    </tr>\n",
       "    <tr>\n",
       "      <th>3</th>\n",
       "      <td>Dallas Mavericks</td>\n",
       "      <td>.499</td>\n",
       "      <td>.578</td>\n",
       "      <td>.703</td>\n",
       "      <td>.465</td>\n",
       "      <td>.402</td>\n",
       "      <td>.360</td>\n",
       "    </tr>\n",
       "  </tbody>\n",
       "</table>\n",
       "</div>"
      ],
      "text/plain": [
       "                    Team FG% 3-10 FG% 2P FG% 0-3 FG% 10-16 FG% 16-3P FG% 3P\n",
       "1  Golden State Warriors     .522   .563    .695      .458      .439   .376\n",
       "2       Sacramento Kings     .500   .588    .762      .398      .425   .357\n",
       "3       Dallas Mavericks     .499   .578    .703      .465      .402   .360"
      ]
     },
     "execution_count": 53,
     "metadata": {},
     "output_type": "execute_result"
    }
   ],
   "source": [
    "df.sort_values(by=['FG% 3-10'],ascending=False,inplace=True)\n",
    "df.index = np.arange(1,len(df)+1)\n",
    "df[['Team', 'FG% 3-10','FG% 2P', 'FG% 0-3', 'FG% 10-16', 'FG% 16-3P', 'FG% 3P']].head(3)"
   ]
  },
  {
   "cell_type": "code",
   "execution_count": 44,
   "id": "7d12cf29",
   "metadata": {},
   "outputs": [
    {
     "data": {
      "text/html": [
       "<div>\n",
       "<style scoped>\n",
       "    .dataframe tbody tr th:only-of-type {\n",
       "        vertical-align: middle;\n",
       "    }\n",
       "\n",
       "    .dataframe tbody tr th {\n",
       "        vertical-align: top;\n",
       "    }\n",
       "\n",
       "    .dataframe thead th {\n",
       "        text-align: right;\n",
       "    }\n",
       "</style>\n",
       "<table border=\"1\" class=\"dataframe\">\n",
       "  <thead>\n",
       "    <tr style=\"text-align: right;\">\n",
       "      <th></th>\n",
       "      <th>Team</th>\n",
       "      <th>FG% 10-16</th>\n",
       "      <th>FG% 2P</th>\n",
       "      <th>FG% 0-3</th>\n",
       "      <th>FG% 3-10</th>\n",
       "      <th>FG% 16-3P</th>\n",
       "      <th>FG% 3P</th>\n",
       "    </tr>\n",
       "  </thead>\n",
       "  <tbody>\n",
       "    <tr>\n",
       "      <th>1</th>\n",
       "      <td>Brooklyn Nets</td>\n",
       "      <td>.518</td>\n",
       "      <td>.580</td>\n",
       "      <td>.723</td>\n",
       "      <td>.464</td>\n",
       "      <td>.526</td>\n",
       "      <td>.390</td>\n",
       "    </tr>\n",
       "    <tr>\n",
       "      <th>2</th>\n",
       "      <td>Boston Celtics</td>\n",
       "      <td>.466</td>\n",
       "      <td>.575</td>\n",
       "      <td>.719</td>\n",
       "      <td>.475</td>\n",
       "      <td>.491</td>\n",
       "      <td>.376</td>\n",
       "    </tr>\n",
       "    <tr>\n",
       "      <th>3</th>\n",
       "      <td>Minnesota Timberwolves</td>\n",
       "      <td>.466</td>\n",
       "      <td>.578</td>\n",
       "      <td>.711</td>\n",
       "      <td>.459</td>\n",
       "      <td>.427</td>\n",
       "      <td>.342</td>\n",
       "    </tr>\n",
       "  </tbody>\n",
       "</table>\n",
       "</div>"
      ],
      "text/plain": [
       "                     Team FG% 10-16 FG% 2P FG% 0-3 FG% 3-10 FG% 16-3P FG% 3P\n",
       "1           Brooklyn Nets      .518   .580    .723     .464      .526   .390\n",
       "2          Boston Celtics      .466   .575    .719     .475      .491   .376\n",
       "3  Minnesota Timberwolves      .466   .578    .711     .459      .427   .342"
      ]
     },
     "execution_count": 44,
     "metadata": {},
     "output_type": "execute_result"
    }
   ],
   "source": [
    "df.sort_values(by=['FG% 10-16'],ascending=False,inplace=True)\n",
    "df.index = np.arange(1,len(df)+1)\n",
    "df[['Team', 'FG% 10-16','FG% 2P', 'FG% 0-3', 'FG% 3-10', 'FG% 16-3P', 'FG% 3P']].head(3)"
   ]
  },
  {
   "cell_type": "markdown",
   "id": "d1dbbcc2",
   "metadata": {},
   "source": [
    "# % of FGA Ast'd"
   ]
  },
  {
   "cell_type": "markdown",
   "id": "ea472c07",
   "metadata": {},
   "source": [
    "- 2P"
   ]
  },
  {
   "cell_type": "code",
   "execution_count": 54,
   "id": "7cdcea55",
   "metadata": {
    "scrolled": false
   },
   "outputs": [
    {
     "data": {
      "text/html": [
       "<div>\n",
       "<style scoped>\n",
       "    .dataframe tbody tr th:only-of-type {\n",
       "        vertical-align: middle;\n",
       "    }\n",
       "\n",
       "    .dataframe tbody tr th {\n",
       "        vertical-align: top;\n",
       "    }\n",
       "\n",
       "    .dataframe thead th {\n",
       "        text-align: right;\n",
       "    }\n",
       "</style>\n",
       "<table border=\"1\" class=\"dataframe\">\n",
       "  <thead>\n",
       "    <tr style=\"text-align: right;\">\n",
       "      <th></th>\n",
       "      <th>Team</th>\n",
       "      <th>% of FG Ast 2P</th>\n",
       "      <th>% of FG Ast 3P</th>\n",
       "    </tr>\n",
       "  </thead>\n",
       "  <tbody>\n",
       "    <tr>\n",
       "      <th>1</th>\n",
       "      <td>Golden State Warriors</td>\n",
       "      <td>.614</td>\n",
       "      <td>.816</td>\n",
       "    </tr>\n",
       "    <tr>\n",
       "      <th>2</th>\n",
       "      <td>Denver Nuggets</td>\n",
       "      <td>.597</td>\n",
       "      <td>.816</td>\n",
       "    </tr>\n",
       "    <tr>\n",
       "      <th>3</th>\n",
       "      <td>Indiana Pacers</td>\n",
       "      <td>.570</td>\n",
       "      <td>.806</td>\n",
       "    </tr>\n",
       "  </tbody>\n",
       "</table>\n",
       "</div>"
      ],
      "text/plain": [
       "                    Team % of FG Ast 2P % of FG Ast 3P\n",
       "1  Golden State Warriors           .614           .816\n",
       "2         Denver Nuggets           .597           .816\n",
       "3         Indiana Pacers           .570           .806"
      ]
     },
     "execution_count": 54,
     "metadata": {},
     "output_type": "execute_result"
    }
   ],
   "source": [
    "df.sort_values(by=['% of FG Ast 2P'],ascending=False,inplace=True)\n",
    "df.index = np.arange(1,len(df)+1)\n",
    "df[['Team', '% of FG Ast 2P', '% of FG Ast 3P']].head(3)"
   ]
  },
  {
   "cell_type": "markdown",
   "id": "859e17e4",
   "metadata": {},
   "source": [
    "- 3P"
   ]
  },
  {
   "cell_type": "code",
   "execution_count": 55,
   "id": "6d34fd71",
   "metadata": {
    "scrolled": true
   },
   "outputs": [
    {
     "data": {
      "text/html": [
       "<div>\n",
       "<style scoped>\n",
       "    .dataframe tbody tr th:only-of-type {\n",
       "        vertical-align: middle;\n",
       "    }\n",
       "\n",
       "    .dataframe tbody tr th {\n",
       "        vertical-align: top;\n",
       "    }\n",
       "\n",
       "    .dataframe thead th {\n",
       "        text-align: right;\n",
       "    }\n",
       "</style>\n",
       "<table border=\"1\" class=\"dataframe\">\n",
       "  <thead>\n",
       "    <tr style=\"text-align: right;\">\n",
       "      <th></th>\n",
       "      <th>Team</th>\n",
       "      <th>% of FG Ast 3P</th>\n",
       "      <th>% of FG Ast 2P</th>\n",
       "    </tr>\n",
       "  </thead>\n",
       "  <tbody>\n",
       "    <tr>\n",
       "      <th>1</th>\n",
       "      <td>San Antonio Spurs</td>\n",
       "      <td>.944</td>\n",
       "      <td>.525</td>\n",
       "    </tr>\n",
       "    <tr>\n",
       "      <th>2</th>\n",
       "      <td>Chicago Bulls</td>\n",
       "      <td>.912</td>\n",
       "      <td>.473</td>\n",
       "    </tr>\n",
       "    <tr>\n",
       "      <th>3</th>\n",
       "      <td>Oklahoma City Thunder</td>\n",
       "      <td>.887</td>\n",
       "      <td>.441</td>\n",
       "    </tr>\n",
       "  </tbody>\n",
       "</table>\n",
       "</div>"
      ],
      "text/plain": [
       "                    Team % of FG Ast 3P % of FG Ast 2P\n",
       "1      San Antonio Spurs           .944           .525\n",
       "2          Chicago Bulls           .912           .473\n",
       "3  Oklahoma City Thunder           .887           .441"
      ]
     },
     "execution_count": 55,
     "metadata": {},
     "output_type": "execute_result"
    }
   ],
   "source": [
    "df.sort_values(by=['% of FG Ast 3P'],ascending=False,inplace=True)\n",
    "df.index = np.arange(1,len(df)+1)\n",
    "df[['Team', '% of FG Ast 3P', '% of FG Ast 2P']].head(3)"
   ]
  },
  {
   "cell_type": "markdown",
   "id": "88f64c62",
   "metadata": {},
   "source": [
    "# Corner"
   ]
  },
  {
   "cell_type": "code",
   "execution_count": 57,
   "id": "b1bbf6d2",
   "metadata": {},
   "outputs": [
    {
     "data": {
      "text/html": [
       "<div>\n",
       "<style scoped>\n",
       "    .dataframe tbody tr th:only-of-type {\n",
       "        vertical-align: middle;\n",
       "    }\n",
       "\n",
       "    .dataframe tbody tr th {\n",
       "        vertical-align: top;\n",
       "    }\n",
       "\n",
       "    .dataframe thead th {\n",
       "        text-align: right;\n",
       "    }\n",
       "</style>\n",
       "<table border=\"1\" class=\"dataframe\">\n",
       "  <thead>\n",
       "    <tr style=\"text-align: right;\">\n",
       "      <th></th>\n",
       "      <th>Team</th>\n",
       "      <th>Corner %3PA</th>\n",
       "      <th>Corner 3P%</th>\n",
       "    </tr>\n",
       "  </thead>\n",
       "  <tbody>\n",
       "    <tr>\n",
       "      <th>1</th>\n",
       "      <td>Phoenix Suns</td>\n",
       "      <td>.289</td>\n",
       "      <td>.457</td>\n",
       "    </tr>\n",
       "    <tr>\n",
       "      <th>2</th>\n",
       "      <td>Dallas Mavericks</td>\n",
       "      <td>.270</td>\n",
       "      <td>.402</td>\n",
       "    </tr>\n",
       "    <tr>\n",
       "      <th>3</th>\n",
       "      <td>Chicago Bulls</td>\n",
       "      <td>.267</td>\n",
       "      <td>.419</td>\n",
       "    </tr>\n",
       "  </tbody>\n",
       "</table>\n",
       "</div>"
      ],
      "text/plain": [
       "               Team Corner %3PA Corner 3P%\n",
       "1      Phoenix Suns        .289       .457\n",
       "2  Dallas Mavericks        .270       .402\n",
       "3     Chicago Bulls        .267       .419"
      ]
     },
     "execution_count": 57,
     "metadata": {},
     "output_type": "execute_result"
    }
   ],
   "source": [
    "df.sort_values(by=['Corner %3PA'],ascending=False,inplace=True)\n",
    "df.index = np.arange(1,len(df)+1)\n",
    "df[['Team', 'Corner %3PA', 'Corner 3P%']].head(3)"
   ]
  },
  {
   "cell_type": "code",
   "execution_count": 56,
   "id": "62ecddb8",
   "metadata": {},
   "outputs": [
    {
     "data": {
      "text/html": [
       "<div>\n",
       "<style scoped>\n",
       "    .dataframe tbody tr th:only-of-type {\n",
       "        vertical-align: middle;\n",
       "    }\n",
       "\n",
       "    .dataframe tbody tr th {\n",
       "        vertical-align: top;\n",
       "    }\n",
       "\n",
       "    .dataframe thead th {\n",
       "        text-align: right;\n",
       "    }\n",
       "</style>\n",
       "<table border=\"1\" class=\"dataframe\">\n",
       "  <thead>\n",
       "    <tr style=\"text-align: right;\">\n",
       "      <th></th>\n",
       "      <th>Team</th>\n",
       "      <th>Corner 3P%</th>\n",
       "      <th>Corner %3PA</th>\n",
       "    </tr>\n",
       "  </thead>\n",
       "  <tbody>\n",
       "    <tr>\n",
       "      <th>1</th>\n",
       "      <td>Phoenix Suns</td>\n",
       "      <td>.457</td>\n",
       "      <td>.289</td>\n",
       "    </tr>\n",
       "    <tr>\n",
       "      <th>2</th>\n",
       "      <td>Utah Jazz</td>\n",
       "      <td>.436</td>\n",
       "      <td>.206</td>\n",
       "    </tr>\n",
       "    <tr>\n",
       "      <th>3</th>\n",
       "      <td>Chicago Bulls</td>\n",
       "      <td>.419</td>\n",
       "      <td>.267</td>\n",
       "    </tr>\n",
       "  </tbody>\n",
       "</table>\n",
       "</div>"
      ],
      "text/plain": [
       "            Team Corner 3P% Corner %3PA\n",
       "1   Phoenix Suns       .457        .289\n",
       "2      Utah Jazz       .436        .206\n",
       "3  Chicago Bulls       .419        .267"
      ]
     },
     "execution_count": 56,
     "metadata": {},
     "output_type": "execute_result"
    }
   ],
   "source": [
    "df.sort_values(by=['Corner 3P%'],ascending=False,inplace=True)\n",
    "df.index = np.arange(1,len(df)+1)\n",
    "df[['Team', 'Corner 3P%', 'Corner %3PA']].head(3)"
   ]
  },
  {
   "cell_type": "code",
   "execution_count": null,
   "id": "ab962173",
   "metadata": {},
   "outputs": [],
   "source": []
  }
 ],
 "metadata": {
  "kernelspec": {
   "display_name": "Python 3 (ipykernel)",
   "language": "python",
   "name": "python3"
  },
  "language_info": {
   "codemirror_mode": {
    "name": "ipython",
    "version": 3
   },
   "file_extension": ".py",
   "mimetype": "text/x-python",
   "name": "python",
   "nbconvert_exporter": "python",
   "pygments_lexer": "ipython3",
   "version": "3.9.7"
  }
 },
 "nbformat": 4,
 "nbformat_minor": 5
}
